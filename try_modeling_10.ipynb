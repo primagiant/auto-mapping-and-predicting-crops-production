{
 "cells": [
  {
   "cell_type": "code",
   "execution_count": null,
   "metadata": {},
   "outputs": [],
   "source": [
    "import numpy as np\n",
    "import pandas as pd\n",
    "import seaborn as sns\n",
    "import matplotlib.pyplot as plt\n",
    "\n",
    "from mpl_toolkits.mplot3d import Axes3D\n",
    "from imblearn.under_sampling import RandomUnderSampler\n",
    "from sklearn.ensemble import RandomForestClassifier\n",
    "from sklearn.metrics import confusion_matrix, classification_report\n",
    "from sklearn.model_selection import RandomizedSearchCV, train_test_split, cross_val_predict\n"
   ]
  },
  {
   "cell_type": "code",
   "execution_count": null,
   "metadata": {},
   "outputs": [],
   "source": [
    "df = pd.read_csv(\"./csv/rgb/2020/jan/poligon-500-result.csv\")"
   ]
  },
  {
   "cell_type": "code",
   "execution_count": null,
   "metadata": {},
   "outputs": [],
   "source": [
    "df"
   ]
  },
  {
   "cell_type": "code",
   "execution_count": null,
   "metadata": {},
   "outputs": [],
   "source": [
    "df = df.drop(\"Label_id\", axis=1)\n",
    "df"
   ]
  },
  {
   "cell_type": "code",
   "execution_count": null,
   "metadata": {},
   "outputs": [],
   "source": [
    "df = df[df != 0].dropna()\n",
    "df.reset_index(drop=True, inplace=True)"
   ]
  },
  {
   "cell_type": "code",
   "execution_count": null,
   "metadata": {},
   "outputs": [],
   "source": [
    "df"
   ]
  },
  {
   "cell_type": "code",
   "execution_count": null,
   "metadata": {},
   "outputs": [],
   "source": [
    "df.describe()"
   ]
  },
  {
   "cell_type": "code",
   "execution_count": null,
   "metadata": {},
   "outputs": [],
   "source": [
    "df['Label_txt'].value_counts()"
   ]
  },
  {
   "cell_type": "code",
   "execution_count": null,
   "metadata": {},
   "outputs": [],
   "source": [
    "plt.hist(df['R'], bins=20, alpha=0.7, label='Red')\n",
    "plt.hist(df['G'], bins=20, alpha=0.7, label='Green')\n",
    "plt.hist(df['B'], bins=20, alpha=0.7, label='Blue')\n",
    "plt.hist(df['Vre1'], bins=20, alpha=0.7, label='Vre1')\n",
    "plt.hist(df['Vre2'], bins=20, alpha=0.7, label='Vre2')\n",
    "plt.hist(df['Vre3'], bins=20, alpha=0.7, label='Vre3')\n",
    "plt.hist(df['Nir'], bins=20, alpha=0.7, label='Nir')\n",
    "plt.hist(df['Swir1'], bins=20, alpha=0.7, label='Swir1')\n",
    "plt.hist(df['Swir2'], bins=20, alpha=0.7, label='Swir2')\n",
    "plt.hist(df['NNir'], bins=20, alpha=0.7, label='NNir')\n",
    "plt.xlabel('Value')\n",
    "plt.ylabel('Frequency')\n",
    "plt.legend()\n",
    "plt.show()"
   ]
  },
  {
   "cell_type": "code",
   "execution_count": null,
   "metadata": {},
   "outputs": [],
   "source": [
    "plt.figure(figsize=(8, 6))\n",
    "sns.boxplot(data=df)\n",
    "plt.show()"
   ]
  },
  {
   "cell_type": "code",
   "execution_count": null,
   "metadata": {},
   "outputs": [],
   "source": [
    "X = df[['R', 'G', 'B', 'Vre1', 'Vre2', 'Vre3', 'Nir', 'Swir1', 'Swir2', 'NNir']]\n",
    "y = df['Label_txt']"
   ]
  },
  {
   "cell_type": "code",
   "execution_count": null,
   "metadata": {},
   "outputs": [],
   "source": [
    "X_train, X_test, y_train, y_test = train_test_split(X, y, test_size=0.2, random_state=42)"
   ]
  },
  {
   "cell_type": "code",
   "execution_count": null,
   "metadata": {},
   "outputs": [],
   "source": [
    "# n_estimators = [int(x) for x in np.linspace(start = 10, stop = 1000, num = 10)]\n",
    "# max_features = ['auto', 'sqrt']\n",
    "# max_depth = [int(x) for x in np.linspace(10, 110, num = 11)]\n",
    "# min_samples_split = [2, 5, 10]\n",
    "# min_samples_leaf = [1, 2, 4]\n",
    "# bootstrap = [True, False]\n",
    "\n",
    "# random_grid = {\n",
    "#     'n_estimators': n_estimators,\n",
    "#     'max_features': max_features,\n",
    "#     'max_depth': max_depth,\n",
    "#     'min_samples_split': min_samples_split,\n",
    "#     'min_samples_leaf': min_samples_leaf,\n",
    "#     'bootstrap': bootstrap\n",
    "# }\n",
    "\n",
    "# rf = rf = RandomForestClassifier()\n",
    "\n",
    "# best_model = RandomizedSearchCV(estimator = rf, param_distributions = random_grid, n_iter = 100, cv = 10, verbose=2, random_state=42, n_jobs = -1)\n",
    "\n",
    "best_model = RandomForestClassifier(\n",
    "    # n_estimators=50,\n",
    "    # max_depth=5,\n",
    "    # max_leaf_nodes=4,\n",
    "    # max_features='log2',\n",
    "    # min_samples_split=2,\n",
    "    # min_samples_leaf=3,\n",
    ")\n",
    "best_model.fit(X_train, y_train)"
   ]
  },
  {
   "cell_type": "code",
   "execution_count": null,
   "metadata": {},
   "outputs": [],
   "source": [
    "predicted_labels = cross_val_predict(best_model, X, y, cv=10)"
   ]
  },
  {
   "cell_type": "code",
   "execution_count": null,
   "metadata": {},
   "outputs": [],
   "source": [
    "cm = confusion_matrix(y, predicted_labels)\n",
    "cm_label = ['Building', 'Forest', 'Vegetation Type 1', 'Vegetation Type 2', 'Water']\n",
    "plt.figure(figsize=(8, 6))\n",
    "sns.heatmap(cm, annot=True, fmt=\"d\", cmap=\"Blues\", cbar=False, xticklabels=cm_label, yticklabels=cm_label)\n",
    "plt.xlabel(\"Predicted Labels\")\n",
    "plt.ylabel(\"True Labels\")\n",
    "plt.title(\"Confusion Matrix\")\n",
    "plt.show()"
   ]
  },
  {
   "cell_type": "code",
   "execution_count": null,
   "metadata": {},
   "outputs": [],
   "source": [
    "report = classification_report(y, predicted_labels)\n",
    "print(\"Classification Report:\")\n",
    "print(report)"
   ]
  },
  {
   "cell_type": "code",
   "execution_count": null,
   "metadata": {},
   "outputs": [],
   "source": [
    "from sklearn.metrics import cohen_kappa_score\n",
    "kappa = cohen_kappa_score(y, predicted_labels)\n",
    "print(\"Kappa Cohen :\", kappa)"
   ]
  },
  {
   "cell_type": "code",
   "execution_count": null,
   "metadata": {},
   "outputs": [],
   "source": [
    "import joblib\n",
    "model_output_file = './model/model8'\n",
    "joblib.dump(best_model, f'{model_output_file}.joblib')"
   ]
  },
  {
   "cell_type": "code",
   "execution_count": null,
   "metadata": {},
   "outputs": [],
   "source": [
    "import rasterio\n",
    "import joblib\n",
    "import pandas as pd\n",
    "import numpy as np\n",
    "\n",
    "loaded_model = joblib.load('./model/model8.joblib')\n",
    "\n",
    "list = []\n",
    "with rasterio.open('./qgis/2020/jan/clipped.tif') as src:\n",
    "\n",
    "    metadata = src.meta\n",
    "\n",
    "    b2 = src.read(1)\n",
    "    b3 = src.read(2)\n",
    "    b4 = src.read(3)\n",
    "    b5 = src.read(4)\n",
    "    b6 = src.read(5)\n",
    "    b7 = src.read(6)\n",
    "    b8 = src.read(7)\n",
    "    b11 = src.read(8)\n",
    "    b12 = src.read(9)\n",
    "    b8a = src.read(10)\n",
    "\n",
    "    for row in range(b2.shape[0]):\n",
    "        rows = []\n",
    "        for col in range(b2.shape[1]):\n",
    "            pixel = pd.DataFrame({\n",
    "                'R': [b2[row][col]],\n",
    "                'G': [b3[row][col]],\n",
    "                'B': [b4[row][col]],\n",
    "                'Vre1': [b5[row][col]],\n",
    "                'Vre2': [b6[row][col]],\n",
    "                'Vre3': [b7[row][col]],\n",
    "                'Nir': [b8[row][col]],\n",
    "                'Swir1': [b11[row][col]],\n",
    "                'Swir2': [b12[row][col]],\n",
    "                'NNir': [b8a[row][col]],\n",
    "            })\n",
    "            result = loaded_model.predict(pixel)\n",
    "            if result == 'building':\n",
    "                rows.append(4)\n",
    "            if result == 'forest':\n",
    "                rows.append(3)\n",
    "            if result == 'vegetation_type_1':\n",
    "                rows.append(1)\n",
    "            if result == 'vegetation_type_2':\n",
    "                rows.append(2)\n",
    "            if result == 'water':\n",
    "                rows.append(0)\n",
    "\n",
    "        list.append(rows)\n",
    "        print(f\"appending row : {row} Finished\")\n",
    "\n",
    "    new_array = np.array(list)\n",
    "\n",
    "    output_tif_path = './output/lulc/2_jan_2020.tif'\n",
    "\n",
    "    metadata.update({\n",
    "        'count': 1,\n",
    "        'dtype': new_array.dtype.name\n",
    "    })\n",
    "\n",
    "    # Create the new GeoTIFF file and write the new array\n",
    "    with rasterio.open(output_tif_path, 'w', **metadata) as dst:\n",
    "        dst.write(new_array, 1)\n",
    "\n",
    "    print(f\"Export {output_tif_path} Finish\")"
   ]
  }
 ],
 "metadata": {
  "kernelspec": {
   "display_name": "rmtSnsg",
   "language": "python",
   "name": "python3"
  },
  "language_info": {
   "codemirror_mode": {
    "name": "ipython",
    "version": 3
   },
   "file_extension": ".py",
   "mimetype": "text/x-python",
   "name": "python",
   "nbconvert_exporter": "python",
   "pygments_lexer": "ipython3",
   "version": "3.10.7"
  },
  "orig_nbformat": 4
 },
 "nbformat": 4,
 "nbformat_minor": 2
}
